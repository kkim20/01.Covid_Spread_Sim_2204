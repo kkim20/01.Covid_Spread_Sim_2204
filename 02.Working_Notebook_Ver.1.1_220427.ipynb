{
 "cells": [
  {
   "cell_type": "markdown",
   "metadata": {},
   "source": [
    "## Daily Code Workout Day 2(220426)\n",
    "1. Monty Hall Problem\n",
    "2. Covid Simulation(<- Here!)"
   ]
  },
  {
   "cell_type": "markdown",
   "metadata": {},
   "source": [
    "#### 00. Packages Used"
   ]
  },
  {
   "cell_type": "code",
   "execution_count": 2,
   "metadata": {},
   "outputs": [],
   "source": [
    "import pandas as pd\n",
    "import numpy as np\n",
    "import random"
   ]
  },
  {
   "cell_type": "markdown",
   "metadata": {},
   "source": [
    "#### 01.  Randomized Locations & Status"
   ]
  },
  {
   "cell_type": "code",
   "execution_count": 1,
   "metadata": {},
   "outputs": [],
   "source": [
    "st_dict ={1:\"sick\", 0:\"healthy\", 9:\"dead\", 2:\"immunized\", 3:'vaccinated'}"
   ]
  },
  {
   "cell_type": "code",
   "execution_count": 108,
   "metadata": {},
   "outputs": [],
   "source": [
    "ppl_n, i_ratio = 10000, 0.004\n",
    "loc_df = pd.DataFrame(np.array([np.random.uniform(0, 1, ppl_n),\n",
    "                                np.random.uniform(0, 1, ppl_n)])).T\n",
    "loc_df.columns = ['x', 'y']\n",
    "covid = random.sample(range(ppl_n), max(1, int(ppl_n*i_ratio)))\n",
    "loc_df['status_0'] = np.where(loc_df.index.isin(covid), 1, 0)"
   ]
  },
  {
   "cell_type": "markdown",
   "metadata": {},
   "source": [
    "#### 02 - 1. Contact & Catching Covid - Brute Force Method(Baseline, prob. not optimal)"
   ]
  },
  {
   "cell_type": "code",
   "execution_count": 171,
   "metadata": {},
   "outputs": [],
   "source": [
    "het_df = loc_df[loc_df['status_0'] == 0].copy()\n",
    "x_df = loc_df[loc_df['status_0'] == 1][['x']].T.reset_index(drop = True)\n",
    "x_df.columns = [str(x) + \"_x\" for x in list(x_df)]\n",
    "y_df = loc_df[loc_df['status_0'] == 1][['y']].T.reset_index(drop = True)\n",
    "y_df.columns = [str(x) + \"_y\" for x in list(y_df)]\n",
    "\n",
    "het_df = pd.concat([het_df, \n",
    "                    pd.DataFrame(x_df, index = het_df.index).fillna(method = \"ffill\"),\n",
    "                    pd.DataFrame(y_df, index = het_df.index).fillna(method = \"ffill\")], axis  =1)\n",
    "\n",
    "het_df = pd.concat([het_df[['x'] + list(x_df)].apply(lambda x: abs(x -x['x']), axis = 1 ),\n",
    "                    het_df[['y'] + list(y_df)].apply(lambda x: abs(x -x['y']), axis = 1 )], axis = 1).drop(['x','y'], axis = 1)\n",
    "het_df = np.sqrt(pd.concat([pd.DataFrame(het_df[[x for x in list(het_df) if str(y) in x]\n",
    "                                               ].apply(lambda x: x[str(y) + \"_x\"]**2 + x[str(y) + \"_y\"]**2 ,axis = 1 ) )\n",
    "                            for y in loc_df[loc_df['status_0'] == 1].index], axis = 1))\n",
    "het_df['min'] = het_df.min(axis =1)\n",
    "\n",
    "new_df = loc_df.copy()\n",
    "new_df['status_1'] = np.where(new_df.index.isin(het_df[het_df['min'] < 0.03].index), 1,\n",
    "                             new_df['status_0'])"
   ]
  },
  {
   "cell_type": "markdown",
   "metadata": {},
   "source": [
    "#### 02 - 2. Function"
   ]
  },
  {
   "cell_type": "code",
   "execution_count": 185,
   "metadata": {},
   "outputs": [],
   "source": [
    "def step_contact(loc_df, st_col = 'status_0'):\n",
    "    s_df = loc_df[loc_df[st_col] == 1].copy()\n",
    "    h_df = loc_df[loc_df[st_col] == 0].copy()\n",
    "    x_df, y_df = s_df[['x']].T.reset_index(drop = True), s_df[['y']].T.reset_index(drop = True)\n",
    "    x_df.columns = [str(x) + \"_x\" for x in list(x_df)]\n",
    "    y_df.columns = [str(x) + \"_y\" for x in list(y_df)]\n",
    "\n",
    "    h_df = pd.concat([h_df, \n",
    "                      pd.DataFrame(x_df, index = h_df.index),\n",
    "                      pd.DataFrame(y_df, index = h_df.index)], axis = 1).fillna(method = \"ffill\")\n",
    "\n",
    "    h_df = pd.concat([h_df[['x'] + list(x_df)].apply(lambda x: x - x['x'], axis = 1 ),\n",
    "                      h_df[['y'] + list(y_df)].apply(lambda x: x - x['y'], axis = 1 )], axis = 1)\n",
    "    h_df = h_df.drop(['x','y'], axis = 1)\n",
    "    h_df = np.sqrt(pd.concat([pd.DataFrame(h_df[[x for x in list(h_df) if str(y) in x]\n",
    "                                               ].apply(lambda x: x[str(y) + \"_x\"]**2 + x[str(y) + \"_y\"]**2 ,axis = 1 ) )\n",
    "                              for y in s_df.index], axis = 1))\n",
    "    h_df['min'] = h_df.min(axis =1)\n",
    "\n",
    "    new_df = loc_df.copy()\n",
    "    new_col = \"status_\" + str(int(st_col.split(\"_\")[1]) + 1)\n",
    "    new_df[new_col] = np.where(new_df.index.isin(h_df[h_df['min'] < 0.03].index), 1,\n",
    "                                  new_df[st_col])\n",
    "    return(new_df[['x', 'y', new_col]])"
   ]
  },
  {
   "cell_type": "code",
   "execution_count": 186,
   "metadata": {},
   "outputs": [
    {
     "name": "stdout",
     "output_type": "stream",
     "text": [
      "Wall time: 3.61 s\n"
     ]
    }
   ],
   "source": [
    "%%time\n",
    "next_step = step_contact(loc_df, 'status_0')"
   ]
  },
  {
   "cell_type": "code",
   "execution_count": null,
   "metadata": {},
   "outputs": [],
   "source": []
  },
  {
   "cell_type": "markdown",
   "metadata": {},
   "source": [
    "## Daily Coding Workout - Day 3(220427)\n",
    "1. Monty Hall Problem\n",
    "2. Covid Simulation(<- Here!)"
   ]
  },
  {
   "cell_type": "markdown",
   "metadata": {},
   "source": [
    "#### 02 - 3. Contact & Catching Covid - Dividing by Sectors"
   ]
  },
  {
   "cell_type": "code",
   "execution_count": 13,
   "metadata": {},
   "outputs": [],
   "source": [
    "from itertools import product"
   ]
  },
  {
   "cell_type": "code",
   "execution_count": 137,
   "metadata": {},
   "outputs": [
    {
     "name": "stdout",
     "output_type": "stream",
     "text": [
      "Wall time: 29 s\n"
     ]
    },
    {
     "data": {
      "text/plain": [
       "(1089, 5)"
      ]
     },
     "execution_count": 137,
     "metadata": {},
     "output_type": "execute_result"
    }
   ],
   "source": [
    "%%time\n",
    "loc_df['sect'] = loc_df.apply(lambda x: (int(x['x'] / (1/5)), int(x['y'] / (1/5))), axis = 1)\n",
    "all_list = []\n",
    "for sect in set(loc_df[loc_df['status_0'] == 1]['sect']):\n",
    "    o_sect = [x for x in set(loc_df['sect']) if \n",
    "              np.sqrt((x[0]-sect[0])**2 + (x[1]-sect[1])**2) <= np.sqrt(2)]\n",
    "    het_df = loc_df[(loc_df['status_0'] == 0) & \n",
    "                    (loc_df['sect'].isin(o_sect))].copy()\n",
    "    x_df = loc_df[(loc_df['status_0'] == 1) &\n",
    "                  (loc_df['sect'] == sect)][['x']].T.reset_index(drop = True)\n",
    "    x_df.columns = [str(x) + \"_x\" for x in list(x_df)]\n",
    "    x_df.index = het_df.index[:1]\n",
    "    y_df = loc_df[(loc_df['status_0'] == 1) &\n",
    "                  (loc_df['sect'] == sect)][['y']].T.reset_index(drop = True)\n",
    "    y_df.columns = [str(x) + \"_y\" for x in list(y_df)]\n",
    "    y_df.index = het_df.index[:1]\n",
    "    \n",
    "    het_df = pd.concat([het_df, \n",
    "                        pd.DataFrame(x_df, index = het_df.index).fillna(method = \"ffill\"),\n",
    "                        pd.DataFrame(y_df, index = het_df.index).fillna(method = \"ffill\")], axis  =1)\n",
    "\n",
    "    het_df = pd.concat([het_df[['x'] + list(x_df)].apply(lambda x: abs(x -x['x']), axis = 1 ),\n",
    "                        het_df[['y'] + list(y_df)].apply(lambda x: abs(x -x['y']), axis = 1 )], axis = 1).drop(['x','y'], axis = 1)\n",
    "    het_df = np.sqrt(pd.concat([pd.DataFrame(het_df[[x for x in list(het_df) if str(y) in x]\n",
    "                                                   ].apply(lambda x: x[str(y) + \"_x\"]**2 + x[str(y) + \"_y\"]**2 ,axis = 1 ) )\n",
    "                                for y in loc_df[(loc_df['status_0'] == 1) &\n",
    "                                                (loc_df['sect'] == sect)].index], axis = 1))\n",
    "    het_df['min'] = het_df.min(axis =1)\n",
    "    all_list = all_list + list(het_df[het_df['min'] < 0.03].index)\n",
    "new_df = loc_df.copy()\n",
    "new_df['status_1'] = np.where(new_df.index.isin(all_list), 1, new_df['status_0'])\n",
    "new_df[new_df['status_1']==1].shape"
   ]
  },
  {
   "cell_type": "code",
   "execution_count": 138,
   "metadata": {},
   "outputs": [
    {
     "name": "stdout",
     "output_type": "stream",
     "text": [
      "Wall time: 12.5 s\n"
     ]
    },
    {
     "data": {
      "text/plain": [
       "(1089, 5)"
      ]
     },
     "execution_count": 138,
     "metadata": {},
     "output_type": "execute_result"
    }
   ],
   "source": [
    "%%time\n",
    "het_df = loc_df[loc_df['status_0'] == 0].copy()\n",
    "x_df = loc_df[loc_df['status_0'] == 1][['x']].T.reset_index(drop = True)\n",
    "x_df.columns = [str(x) + \"_x\" for x in list(x_df)]\n",
    "y_df = loc_df[loc_df['status_0'] == 1][['y']].T.reset_index(drop = True)\n",
    "y_df.columns = [str(x) + \"_y\" for x in list(y_df)]\n",
    "\n",
    "het_df = pd.concat([het_df, \n",
    "                    pd.DataFrame(x_df, index = het_df.index).fillna(method = \"ffill\"),\n",
    "                    pd.DataFrame(y_df, index = het_df.index).fillna(method = \"ffill\")], axis  =1)\n",
    "\n",
    "het_df = pd.concat([het_df[['x'] + list(x_df)].apply(lambda x: abs(x -x['x']), axis = 1 ),\n",
    "                    het_df[['y'] + list(y_df)].apply(lambda x: abs(x -x['y']), axis = 1 )], axis = 1).drop(['x','y'], axis = 1)\n",
    "het_df = np.sqrt(pd.concat([pd.DataFrame(het_df[[x for x in list(het_df) if str(y) in x]\n",
    "                                               ].apply(lambda x: x[str(y) + \"_x\"]**2 + x[str(y) + \"_y\"]**2 ,axis = 1 ) )\n",
    "                            for y in loc_df[loc_df['status_0'] == 1].index], axis = 1))\n",
    "het_df['min'] = het_df.min(axis =1)\n",
    "\n",
    "new_df = loc_df.copy()\n",
    "new_df['status_1'] = np.where(new_df.index.isin(het_df[het_df['min'] < 0.03].index), 1,\n",
    "                             new_df['status_0'])\n",
    "new_df[new_df['status_1']==1].shape"
   ]
  }
 ],
 "metadata": {
  "kernelspec": {
   "display_name": "Python 3",
   "language": "python",
   "name": "python3"
  },
  "language_info": {
   "codemirror_mode": {
    "name": "ipython",
    "version": 3
   },
   "file_extension": ".py",
   "mimetype": "text/x-python",
   "name": "python",
   "nbconvert_exporter": "python",
   "pygments_lexer": "ipython3",
   "version": "3.7.4"
  }
 },
 "nbformat": 4,
 "nbformat_minor": 2
}
